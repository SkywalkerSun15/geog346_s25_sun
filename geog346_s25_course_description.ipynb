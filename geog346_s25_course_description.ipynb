{
 "cells": [
  {
   "cell_type": "markdown",
   "id": "f62bafa9",
   "metadata": {
    "vscode": {
     "languageId": "plaintext"
    }
   },
   "source": [
    "# GEOG346 Advanced GIS Spring 2025: Open Geospatial Solutions\n",
    "---"
   ]
  },
  {
   "cell_type": "markdown",
   "id": "a057ea2b",
   "metadata": {},
   "source": [
    "## Course Overview\n",
    "In this five-week advanced GIS course, you will learn to leverage a variety of Python libraries and frameworks to process, analyze, and visualize geospatial data. Designed for students with a foundational background in GIS, this course emphasizes the rapid acquisition of open-source data and the application of cutting-edge analysis techniques using Python.\n",
    "\n",
    "The course begins by setting up your software environment—including creating a conda environment, integrating Git and GitHub, and configuring VS Code. You will then dive into key libraries such as GeoPandas, Rasterio, Xarray, Leafmap, WhiteboxTools, and Geemap, and learn how to streamline data acquisition from Google Earth Engine (GEE) and other open geospatial data sources.\n",
    "\n",
    "As the course progresses, you will apply these skills to real-world problems by analyzing the impact of recent natural hazards on urban built environments. Topics include assessing wildfire damage in Los Angeles, evaluating hurricane flooding recovery using high-resolution nighttime light data, detecting “ghost cities” with satellite imagery, and performing change detection related to human activities.\n",
    "\n",
    "Each weekly session includes an in-class hands-on exercise, and the final class is dedicated to research project presentations, where you will propose your future GIS-related research topic.\n",
    "\n",
    "---"
   ]
  },
  {
   "cell_type": "markdown",
   "id": "f9a1c0e1",
   "metadata": {},
   "source": [
    "## Detailed Course Outline\n",
    "\n",
    "### **Week 1: Software Environment & GeoPandas Fundamentals**\n",
    "\n",
    "**Objectives:**\n",
    "- Set up a conda environment, Git, VS Code, and GitHub integration.\n",
    "- Install and configure essential Python packages.\n",
    "- Get introduced to open-source geospatial data acquisition and explore vector data using GeoPandas.\n",
    "\n",
    "**Topics & Activities:**\n",
    "- **Environment Setup:**  \n",
    "  - Create a conda environment and install essential packages such as GeoPandas, Rasterio, Xarray, Leafmap, WhiteboxTools, and Geemap.\n",
    "  - Configure VS Code to use your conda environment.\n",
    "- **Version Control:**  \n",
    "  Learn the basics of Git and GitHub, including creating repositories and committing code.\n",
    "- **Introduction to GeoPandas:**  \n",
    "  Overview of GeoPandas functionality for reading, exploring, and manipulating spatial datasets (e.g., shapefiles, GeoJSON).\n",
    "- **Hands-On Lab:**  \n",
    "  Work through a Jupyter Notebook exercise that:\n",
    "    - Loads a sample spatial dataset using GeoPandas.\n",
    "    - Explores basic spatial operations (e.g., filtering, spatial joins, and plotting).\n",
    "    - Demonstrates the integration of GeoPandas with other tools.\n",
    "\n",
    "---\n",
    "\n",
    "### **Week 2: Raster Data Processing with Rasterio, Xarray, and Rioxarray**\n",
    "\n",
    "**Objectives:**\n",
    "- Deepen your understanding of raster data processing using Python.\n",
    "- Learn to open, analyze, and visualize raster datasets with Rasterio, Xarray, and rioxarray.\n",
    "\n",
    "**Topics & Activities:**\n",
    "- **Introduction to Rasterio:**  \n",
    "  - Overview of Rasterio for reading and writing raster data.\n",
    "  - Demonstrate basic raster operations such as cropping, reprojecting, and visualizing.\n",
    "- **Exploring Xarray and Rioxarray:**  \n",
    "  - Learn how Xarray enables handling multi-dimensional raster data and time series.\n",
    "  - Introduce Rioxarray to seamlessly integrate geospatial metadata into Xarray objects.\n",
    "- **Integration:**  \n",
    "  Discuss how Rasterio, Xarray, and rioxarray work together to support complex geospatial workflows.\n",
    "- **Hands-On Lab:**  \n",
    "  Process a sample raster dataset by:\n",
    "    - Reading and visualizing the data with Rasterio.\n",
    "    - Converting it into an Xarray DataArray using rioxarray.\n",
    "    - Performing simple analysis tasks, such as computing statistics or visualizing specific bands.\n",
    "\n",
    "---\n",
    "\n",
    "### **Week 3: Streamlining Data Acquisition with Leafmap, WhiteboxTools & Geemap**\n",
    "\n",
    "**Objectives:**\n",
    "- Utilize specialized libraries to streamline the acquisition and processing of remote sensing data.\n",
    "- Develop workflows for retrieving and visualizing large geospatial datasets.\n",
    "\n",
    "**Topics & Activities:**\n",
    "- **Leafmap & Geemap:**  \n",
    "  Interactive mapping techniques for quick exploration of geospatial datasets.\n",
    "- **WhiteboxTools:**  \n",
    "  Introduction to advanced raster processing tasks such as terrain analysis and hydrological modeling.\n",
    "- **Data Pipelines:**  \n",
    "  Learn how to integrate data from GEE and other open sources into your analysis workflow.\n",
    "- **Hands-On Lab:**  \n",
    "  Develop a workflow that downloads remote sensing data, applies basic processing (e.g., calculating NDVI), and visualizes the output interactively.\n",
    "\n",
    "---\n",
    "\n",
    "### **Week 4: Applied GIS Analysis – Natural Hazard Impact Assessment**\n",
    "\n",
    "**Objectives:**\n",
    "- Apply open-source GIS skills to assess the impact of natural hazards on urban environments.\n",
    "- Use pre- and post-event satellite imagery to evaluate disaster impacts.\n",
    "\n",
    "**Topics & Activities:**\n",
    "- **Wildfire Impact in LA:**  \n",
    "  Analyze Landsat/Sentinel imagery to calculate change indices (e.g., NDVI, NBR) and assess wildfire damage on urban built environments.\n",
    "- **Hurricane Flooding Recovery:**  \n",
    "  Utilize high-resolution nighttime light data to examine the recovery of urban areas following flooding events.\n",
    "- **Hands-On Lab:**  \n",
    "  Follow a guided exercise that performs change detection analyses using multi-temporal imagery, overlays urban boundary data, and interprets the results.\n",
    "\n",
    "---\n",
    "\n",
    "### **Week 5: Advanced Change Detection & Urban Dynamics**\n",
    "\n",
    "**Objectives:**\n",
    "- Explore advanced techniques in change detection and urban dynamics analysis.\n",
    "- Investigate “ghost cities” and other patterns of urban transformation using satellite data.\n",
    "\n",
    "**Topics & Activities:**\n",
    "- **Urban Change Detection:**  \n",
    "  Apply change detection methods to monitor the transformation of urban areas over time.\n",
    "- **Ghost City Analysis:**  \n",
    "  Combine daytime imagery with nighttime light data to identify areas with rapid urban expansion but low activity.\n",
    "- **Integrated Analysis:**  \n",
    "  Merge remote sensing outputs with local socio-economic data for a comprehensive urban impact study.\n",
    "- **Hands-On Lab:**  \n",
    "  Develop a final project-style workflow that includes data acquisition, processing, change detection, and visualization, culminating in a presentation-ready map and analysis summary.\n",
    "  \n",
    "---"
   ]
  },
  {
   "cell_type": "markdown",
   "id": "19bdca95",
   "metadata": {},
   "source": [
    "## Grade Breakdown\n",
    "\n",
    "- In-class hands on exercises 20%\n",
    "- Research Proposal Presentation 30%\n",
    "- Research Proposal 50% (GIS related research topic)\n",
    "    - Research Rational: literature review (at least 10 high quality peer-reviewed articles)\n",
    "    - Research Questions\n",
    "    - Potential Data Source\n",
    "    - Geospatial Roadmap\n",
    "---"
   ]
  },
  {
   "cell_type": "markdown",
   "id": "d099958d",
   "metadata": {},
   "source": [
    "By the end of this course, you will have acquired a practical toolkit of Python-based geospatial analysis skills. You'll be equipped to quickly apply these skills to solve complex geospatial challenges—from natural hazard impact assessments to urban change detection—using open-source data and state-of-the-art Python libraries."
   ]
  }
 ],
 "metadata": {
  "kernelspec": {
   "display_name": "geog346",
   "language": "python",
   "name": "python3"
  },
  "language_info": {
   "name": "python",
   "version": "3.12.9"
  }
 },
 "nbformat": 4,
 "nbformat_minor": 5
}
